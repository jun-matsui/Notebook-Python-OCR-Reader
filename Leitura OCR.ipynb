{
 "cells": [
  {
   "cell_type": "markdown",
   "metadata": {},
   "source": [
    "## Programa Python para Leitura de Textos OCR de Imagens e PDFs"
   ]
  },
  {
   "cell_type": "markdown",
   "metadata": {},
   "source": [
    "### Tópico 1: Instalação das Bibliotecas Necessárias\n",
    "Antes de começar, você precisa instalar as bibliotecas necessárias. Abra o terminal e execute os seguintes comandos:"
   ]
  },
  {
   "cell_type": "code",
   "execution_count": null,
   "metadata": {},
   "outputs": [
    {
     "name": "stdout",
     "output_type": "stream",
     "text": [
      "Requirement already satisfied: pytesseract in /usr/local/lib/python3.10/dist-packages (0.3.13)\n",
      "Requirement already satisfied: packaging>=21.3 in /root/.local/lib/python3.10/site-packages (from pytesseract) (24.2)\n",
      "Requirement already satisfied: Pillow>=8.0.0 in /usr/local/lib/python3.10/dist-packages (from pytesseract) (11.1.0)\n",
      "\u001b[33mWARNING: Running pip as the 'root' user can result in broken permissions and conflicting behaviour with the system package manager. It is recommended to use a virtual environment instead: https://pip.pypa.io/warnings/venv\u001b[0m\u001b[33m\n",
      "\u001b[0mRequirement already satisfied: pdf2image in /usr/local/lib/python3.10/dist-packages (1.17.0)\n",
      "Requirement already satisfied: pillow in /usr/local/lib/python3.10/dist-packages (from pdf2image) (11.1.0)\n",
      "\u001b[33mWARNING: Running pip as the 'root' user can result in broken permissions and conflicting behaviour with the system package manager. It is recommended to use a virtual environment instead: https://pip.pypa.io/warnings/venv\u001b[0m\u001b[33m\n",
      "\u001b[0mRequirement already satisfied: pillow in /usr/local/lib/python3.10/dist-packages (11.1.0)\n",
      "\u001b[33mWARNING: Running pip as the 'root' user can result in broken permissions and conflicting behaviour with the system package manager. It is recommended to use a virtual environment instead: https://pip.pypa.io/warnings/venv\u001b[0m\u001b[33m\n",
      "\u001b[0mRequirement already satisfied: ipywidgets in /usr/local/lib/python3.10/dist-packages (8.1.5)\n",
      "Requirement already satisfied: traitlets>=4.3.1 in /root/.local/lib/python3.10/site-packages (from ipywidgets) (5.14.3)\n",
      "Requirement already satisfied: jupyterlab-widgets~=3.0.12 in /usr/local/lib/python3.10/dist-packages (from ipywidgets) (3.0.13)\n",
      "Requirement already satisfied: widgetsnbextension~=4.0.12 in /usr/local/lib/python3.10/dist-packages (from ipywidgets) (4.0.13)\n",
      "Requirement already satisfied: ipython>=6.1.0 in /root/.local/lib/python3.10/site-packages (from ipywidgets) (8.34.0)\n",
      "Requirement already satisfied: comm>=0.1.3 in /root/.local/lib/python3.10/site-packages (from ipywidgets) (0.2.2)\n",
      "Requirement already satisfied: pygments>=2.4.0 in /root/.local/lib/python3.10/site-packages (from ipython>=6.1.0->ipywidgets) (2.19.1)\n",
      "Requirement already satisfied: pexpect>4.3 in /root/.local/lib/python3.10/site-packages (from ipython>=6.1.0->ipywidgets) (4.9.0)\n",
      "Requirement already satisfied: jedi>=0.16 in /root/.local/lib/python3.10/site-packages (from ipython>=6.1.0->ipywidgets) (0.19.2)\n",
      "Requirement already satisfied: matplotlib-inline in /root/.local/lib/python3.10/site-packages (from ipython>=6.1.0->ipywidgets) (0.1.7)\n",
      "Requirement already satisfied: stack_data in /root/.local/lib/python3.10/site-packages (from ipython>=6.1.0->ipywidgets) (0.6.3)\n",
      "Requirement already satisfied: prompt_toolkit<3.1.0,>=3.0.41 in /root/.local/lib/python3.10/site-packages (from ipython>=6.1.0->ipywidgets) (3.0.50)\n",
      "Requirement already satisfied: typing_extensions>=4.6 in /usr/local/lib/python3.10/dist-packages (from ipython>=6.1.0->ipywidgets) (4.12.2)\n",
      "Requirement already satisfied: exceptiongroup in /root/.local/lib/python3.10/site-packages (from ipython>=6.1.0->ipywidgets) (1.2.2)\n",
      "Requirement already satisfied: decorator in /root/.local/lib/python3.10/site-packages (from ipython>=6.1.0->ipywidgets) (5.2.1)\n",
      "Requirement already satisfied: parso<0.9.0,>=0.8.4 in /root/.local/lib/python3.10/site-packages (from jedi>=0.16->ipython>=6.1.0->ipywidgets) (0.8.4)\n",
      "Requirement already satisfied: ptyprocess>=0.5 in /root/.local/lib/python3.10/site-packages (from pexpect>4.3->ipython>=6.1.0->ipywidgets) (0.7.0)\n",
      "Requirement already satisfied: wcwidth in /root/.local/lib/python3.10/site-packages (from prompt_toolkit<3.1.0,>=3.0.41->ipython>=6.1.0->ipywidgets) (0.2.13)\n",
      "Requirement already satisfied: asttokens>=2.1.0 in /root/.local/lib/python3.10/site-packages (from stack_data->ipython>=6.1.0->ipywidgets) (3.0.0)\n",
      "Requirement already satisfied: executing>=1.2.0 in /root/.local/lib/python3.10/site-packages (from stack_data->ipython>=6.1.0->ipywidgets) (2.2.0)\n",
      "Requirement already satisfied: pure-eval in /root/.local/lib/python3.10/site-packages (from stack_data->ipython>=6.1.0->ipywidgets) (0.2.3)\n",
      "\u001b[33mWARNING: Running pip as the 'root' user can result in broken permissions and conflicting behaviour with the system package manager. It is recommended to use a virtual environment instead: https://pip.pypa.io/warnings/venv\u001b[0m\u001b[33m\n",
      "\u001b[0m"
     ]
    }
   ],
   "source": [
    "!pip install pytesseract  # Biblioteca para OCR\n",
    "!pip install pdf2image   # Converte PDFs em imagens\n",
    "!pip install pillow      # Manipulação de imagens\n",
    "!pip install ipywidgets"
   ]
  },
  {
   "cell_type": "markdown",
   "metadata": {},
   "source": [
    "#### Além disso, você precisa instalar o Tesseract OCR no seu sistema:"
   ]
  },
  {
   "cell_type": "markdown",
   "metadata": {},
   "source": [
    "* No Linux:"
   ]
  },
  {
   "cell_type": "code",
   "execution_count": 21,
   "metadata": {},
   "outputs": [
    {
     "name": "stdout",
     "output_type": "stream",
     "text": [
      "Reading package lists... Done\n",
      "Building dependency tree... Done\n",
      "Reading state information... Done\n",
      "tesseract-ocr is already the newest version (4.1.1-2.1build1).\n",
      "0 upgraded, 0 newly installed, 0 to remove and 10 not upgraded.\n",
      "Reading package lists... Done\n",
      "Building dependency tree... Done\n",
      "Reading state information... Done\n",
      "The following NEW packages will be installed:\n",
      "  tesseract-ocr-por\n",
      "0 upgraded, 1 newly installed, 0 to remove and 10 not upgraded.\n",
      "Need to get 856 kB of archives.\n",
      "After this operation, 1998 kB of additional disk space will be used.\n",
      "Get:1 http://archive.ubuntu.com/ubuntu jammy/universe amd64 tesseract-ocr-por all 1:4.00~git30-7274cfa-1.1 [856 kB]\n",
      "Fetched 856 kB in 2s (411 kB/s)            \u001b[0m33m\u001b[33m\u001b[33m\n",
      "debconf: delaying package configuration, since apt-utils is not installed\n",
      "\n",
      "\u001b7\u001b[0;23r\u001b8\u001b[1ASelecting previously unselected package tesseract-ocr-por.\n",
      "(Reading database ... 32832 files and directories currently installed.)\n",
      "Preparing to unpack .../tesseract-ocr-por_1%3a4.00~git30-7274cfa-1.1_all.deb ...\n",
      "\u001b7\u001b[24;0f\u001b[42m\u001b[30mProgress: [  0%]\u001b[49m\u001b[39m [..........................................................] \u001b8\u001b7\u001b[24;0f\u001b[42m\u001b[30mProgress: [ 20%]\u001b[49m\u001b[39m [###########...............................................] \u001b8Unpacking tesseract-ocr-por (1:4.00~git30-7274cfa-1.1) ...\n",
      "\u001b7\u001b[24;0f\u001b[42m\u001b[30mProgress: [ 40%]\u001b[49m\u001b[39m [#######################...................................] \u001b8Setting up tesseract-ocr-por (1:4.00~git30-7274cfa-1.1) ...\n",
      "\u001b7\u001b[24;0f\u001b[42m\u001b[30mProgress: [ 60%]\u001b[49m\u001b[39m [##################################........................] \u001b8\u001b7\u001b[24;0f\u001b[42m\u001b[30mProgress: [ 80%]\u001b[49m\u001b[39m [##############################################............] \u001b8\n",
      "\u001b7\u001b[0;24r\u001b8\u001b[1A\u001b[J"
     ]
    }
   ],
   "source": [
    "!sudo apt install tesseract-ocr -y\n",
    "!sudo apt install tesseract-ocr-por -y"
   ]
  },
  {
   "cell_type": "markdown",
   "metadata": {},
   "source": [
    "* No Windows:\n",
    "    * Baixe o instalador do Tesseract em **https://github.com/tesseract-ocr/tesseract**.\n",
    "    * Durante a instalação, anote o caminho onde o **Tesseract** foi instalado (ex: C:\\Program Files\\Tesseract-OCR)."
   ]
  },
  {
   "cell_type": "markdown",
   "metadata": {},
   "source": [
    "### Tópico 2: Importação das Bibliotecas\n",
    "No início do programa, importamos as bibliotecas necessárias:"
   ]
  },
  {
   "cell_type": "code",
   "execution_count": 1,
   "metadata": {},
   "outputs": [],
   "source": [
    "from PIL import Image  # Para manipulação de imagens\n",
    "import pytesseract     # Para OCR\n",
    "from pdf2image import convert_from_path  # Para converter PDF em imagens\n",
    "import os              # Para manipulação de arquivos e diretórios\n",
    "from ipywidgets import widgets, Layout\n",
    "from IPython.display import display, clear_output"
   ]
  },
  {
   "cell_type": "markdown",
   "metadata": {},
   "source": [
    "### Tópico 3: Criar o Botão de Upload\n",
    "Agora, vamos criar um botão de upload usando ipywidgets:"
   ]
  },
  {
   "cell_type": "code",
   "execution_count": 2,
   "metadata": {},
   "outputs": [],
   "source": [
    "# Cria o widget de upload\n",
    "upload = widgets.FileUpload(\n",
    "    accept='.pdf,.png,.jpg,.jpeg',  # Tipos de arquivo permitidos\n",
    "    multiple=False,  # Permite apenas um arquivo por vez\n",
    "    description='Selecione um arquivo',\n",
    "    layout=Layout(width='50%')  # Define o layout do botão\n",
    ")"
   ]
  },
  {
   "cell_type": "markdown",
   "metadata": {},
   "source": [
    "### Tópico 4: Função para Processar o Arquivo\n",
    "Vamos criar uma função para processar o arquivo enviado pelo usuário. Essa função será chamada quando o usuário fizer o upload."
   ]
  },
  {
   "cell_type": "code",
   "execution_count": 3,
   "metadata": {},
   "outputs": [],
   "source": [
    "# Função para processar o arquivo\n",
    "def processar_arquivo(change):\n",
    "    \"\"\"\n",
    "    Processa o arquivo enviado pelo usuário.\n",
    "    \"\"\"\n",
    "    clear_output()\n",
    "    if not upload.value:\n",
    "        print(\"Nenhum arquivo selecionado.\")\n",
    "        return\n",
    "\n",
    "    # Obtém o primeiro arquivo enviado (mesmo que multiple=False)\n",
    "    arquivo = upload.value[0]  # Agora é uma tupla, não um dicionário\n",
    "    nome_arquivo = arquivo['name']\n",
    "    conteudo = arquivo['content']\n",
    "\n",
    "    # Salva o arquivo temporariamente\n",
    "    with open(nome_arquivo, \"wb\") as f:\n",
    "        f.write(conteudo)\n",
    "\n",
    "    # Verifica o tipo de arquivo\n",
    "    if nome_arquivo.lower().endswith(('.png', '.jpg', '.jpeg')):\n",
    "        texto = ler_texto_de_imagem(nome_arquivo)\n",
    "    elif nome_arquivo.lower().endswith('.pdf'):\n",
    "        texto = ler_texto_de_pdf(nome_arquivo)\n",
    "    else:\n",
    "        print(\"Tipo de arquivo não suportado.\")\n",
    "        return\n",
    "\n",
    "    # Exibe o texto extraído\n",
    "    print(f\"Texto extraído de '{nome_arquivo}':\\n\")\n",
    "    print(texto)\n",
    "\n",
    "    # Salva o texto em um arquivo\n",
    "    with open(\"texto_extraido.txt\", \"w\", encoding=\"utf-8\") as f:\n",
    "        f.write(texto)\n",
    "    print(\"\\nTexto salvo em 'texto_extraido.txt'.\")\n",
    "\n",
    "    # Remove o arquivo temporário\n",
    "    os.remove(nome_arquivo)"
   ]
  },
  {
   "cell_type": "markdown",
   "metadata": {},
   "source": [
    "### Tópico 5: Funções de OCR\n",
    "Agora, vamos adicionar as funções de OCR para processar imagens e PDFs:"
   ]
  },
  {
   "cell_type": "code",
   "execution_count": 4,
   "metadata": {},
   "outputs": [],
   "source": [
    "def ler_texto_de_imagem(caminho_imagem):\n",
    "    \"\"\"\n",
    "    Lê o texto de uma imagem usando OCR.\n",
    "    \"\"\"\n",
    "    imagem = Image.open(caminho_imagem)\n",
    "    texto = pytesseract.image_to_string(imagem, lang='por')\n",
    "    return texto\n",
    "\n",
    "def ler_texto_de_pdf(caminho_pdf):\n",
    "    \"\"\"\n",
    "    Lê o texto de um PDF usando OCR.\n",
    "    \"\"\"\n",
    "    imagens = convert_from_path(caminho_pdf)\n",
    "    texto_total = \"\"\n",
    "    for i, imagem in enumerate(imagens):\n",
    "        print(f\"Processando página {i + 1}...\")\n",
    "        texto = pytesseract.image_to_string(imagem, lang='por')\n",
    "        texto_total += texto + \"\\n\\n\"\n",
    "    return texto_total"
   ]
  },
  {
   "cell_type": "markdown",
   "metadata": {},
   "source": [
    "### Tópico 6: Configuração do Tesseract (Apenas para Windows)\n",
    "Se você estiver no Windows, precisa configurar o caminho do Tesseract:"
   ]
  },
  {
   "cell_type": "code",
   "execution_count": null,
   "metadata": {},
   "outputs": [],
   "source": [
    "# Configuração do caminho do Tesseract (apenas para Windows)\n",
    "#pytesseract.pytesseract.tesseract_cmd = r'C:\\Program Files\\Tesseract-OCR\\tesseract.exe'"
   ]
  },
  {
   "cell_type": "markdown",
   "metadata": {},
   "source": [
    "### Tópico 7: Vincular o Botão à Função de Processamento\n",
    "Agora, vamos vincular o botão de upload à função de processamento:"
   ]
  },
  {
   "cell_type": "code",
   "execution_count": null,
   "metadata": {},
   "outputs": [
    {
     "data": {
      "application/vnd.jupyter.widget-view+json": {
       "model_id": "a952852811294dd7a66ed9b733b5acf2",
       "version_major": 2,
       "version_minor": 0
      },
      "text/plain": [
       "FileUpload(value=(), accept='.pdf,.png,.jpg,.jpeg', description='Selecione um arquivo', layout=Layout(width='5…"
      ]
     },
     "metadata": {},
     "output_type": "display_data"
    },
    {
     "name": "stdout",
     "output_type": "stream",
     "text": [
      "Ola\n"
     ]
    }
   ],
   "source": [
    "# Vincula o evento de upload à função de processamento\n",
    "upload.observe(processar_arquivo, names='value')\n",
    "\n",
    "# Exibe o botão de upload\n",
    "display(upload)\n"
   ]
  },
  {
   "cell_type": "markdown",
   "metadata": {},
   "source": [
    "### Tópico 8: Executar o Notebook\n",
    "\n",
    "1) **Execute todas as células** do notebook.\n",
    "2) **Clique no botão \"Selecione um arquivo\"** para fazer o upload de uma imagem ou PDF.\n",
    "3) O texto extraído será exibido no notebook e salvo em um arquivo chamado `texto_extraido.txt`.\n"
   ]
  },
  {
   "cell_type": "markdown",
   "metadata": {},
   "source": [
    "### **Resumo**\n",
    "\n",
    "| Passo | Descrição                                                                 |\n",
    "|-------|---------------------------------------------------------------------------|\n",
    "| 1     | Instalar as bibliotecas necessárias.                                      |\n",
    "| 2     | Importar as bibliotecas.                                                  |\n",
    "| 3     | Criar o botão de upload.                                                  |\n",
    "| 4     | Criar a função para processar o arquivo.                                  |\n",
    "| 5     | Adicionar as funções de OCR.                                              |\n",
    "| 6     | Configurar o Tesseract (apenas para Windows).                             |\n",
    "| 7     | Vincular o botão à função de processamento.                               |\n",
    "| 8     | Executar o notebook e testar o upload.                                    |\n",
    "\n",
    "\n",
    "\n",
    "Com esse notebook, você terá uma interface interativa para upload de arquivos e extração de texto usando OCR. Se precisar de mais detalhes ou ajustes, é só avisar! 😊"
   ]
  },
  {
   "cell_type": "markdown",
   "metadata": {},
   "source": [
    "### Considerações Finais\n",
    "O programa é modular e fácil de entender, com funções separadas para cada tarefa.\n",
    "\n",
    "O código está bem comentado para facilitar o entendimento.\n",
    "\n",
    "O texto extraído é salvo em um arquivo para uso posterior.\n",
    "\n",
    "Se precisar de mais detalhes ou ajustes, é só avisar! 😊"
   ]
  }
 ],
 "metadata": {
  "kernelspec": {
   "display_name": "Python 3",
   "language": "python",
   "name": "python3"
  },
  "language_info": {
   "codemirror_mode": {
    "name": "ipython",
    "version": 3
   },
   "file_extension": ".py",
   "mimetype": "text/x-python",
   "name": "python",
   "nbconvert_exporter": "python",
   "pygments_lexer": "ipython3",
   "version": "3.10.12"
  }
 },
 "nbformat": 4,
 "nbformat_minor": 2
}
